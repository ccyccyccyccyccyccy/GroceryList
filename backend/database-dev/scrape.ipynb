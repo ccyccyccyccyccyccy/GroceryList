{
 "cells": [
  {
   "cell_type": "code",
   "execution_count": 1,
   "id": "d93edf99",
   "metadata": {},
   "outputs": [],
   "source": [
    "from selenium import webdriver\n",
    "from selenium.webdriver.common.by import By\n",
    "from selenium.webdriver.chrome.options import Options\n",
    "import time"
   ]
  },
  {
   "cell_type": "code",
   "execution_count": 68,
   "id": "b9736572",
   "metadata": {},
   "outputs": [],
   "source": [
    "options = Options()\n",
    "driver = webdriver.Chrome(options=options)\n",
    "driver.get(\"https://www.pns.hk/en/food-beverages/fruit/c/04090100\")"
   ]
  },
  {
   "cell_type": "code",
   "execution_count": null,
   "id": "2f1dc332",
   "metadata": {},
   "outputs": [],
   "source": [
    "for i in range(30):\n",
    "    #driver.execute_script(\"window.scrollTo(0, document.body.scrollHeight);\")\n",
    "    driver.execute_script(\"window.scrollBy(0, 10000);\")\n",
    "    time.sleep(0.5)\n",
    "#or manually scroll to bottom"
   ]
  },
  {
   "cell_type": "code",
   "execution_count": 72,
   "id": "cbd510c6",
   "metadata": {},
   "outputs": [],
   "source": [
    "products= driver.find_elements(by=By.CLASS_NAME, value=\"productContainer\")"
   ]
  },
  {
   "cell_type": "code",
   "execution_count": 73,
   "id": "83811bff",
   "metadata": {},
   "outputs": [
    {
     "data": {
      "text/plain": [
       "83"
      ]
     },
     "execution_count": 73,
     "metadata": {},
     "output_type": "execute_result"
    }
   ],
   "source": [
    "len(products)"
   ]
  },
  {
   "cell_type": "code",
   "execution_count": 74,
   "id": "03fe2f0f",
   "metadata": {},
   "outputs": [
    {
     "name": "stdout",
     "output_type": "stream",
     "text": [
      "https://medias.pns.hk/publishing/PNSHK-65950-front-prodcat.jpg?version=1742474098\n"
     ]
    }
   ],
   "source": [
    "product1= products[-1]\n",
    "img_url= product1.find_element(by= By.TAG_NAME, value=\"img\").get_attribute(\"src\")\n",
    "print(img_url)"
   ]
  },
  {
   "cell_type": "code",
   "execution_count": 75,
   "id": "85c3bf00",
   "metadata": {},
   "outputs": [
    {
     "name": "stdout",
     "output_type": "stream",
     "text": [
      "Prepacked Kidney Mango (china)\n"
     ]
    }
   ],
   "source": [
    "name= product1.find_element(by= By.CLASS_NAME, value=\"name\").text\n",
    "print(name)"
   ]
  },
  {
   "cell_type": "code",
   "execution_count": 76,
   "id": "37751f33",
   "metadata": {},
   "outputs": [
    {
     "name": "stdout",
     "output_type": "stream",
     "text": [
      "$18.00\n"
     ]
    }
   ],
   "source": [
    "price = product1.find_element(by= By.CLASS_NAME, value=\"currentPrice\").text\n",
    "print(price)"
   ]
  },
  {
   "cell_type": "code",
   "execution_count": 77,
   "id": "c489575e",
   "metadata": {},
   "outputs": [
    {
     "name": "stdout",
     "output_type": "stream",
     "text": [
      "PACK\n"
     ]
    }
   ],
   "source": [
    "quantity = product1.find_element(by= By.CLASS_NAME, value=\"productUnit\").text\n",
    "print(quantity)"
   ]
  },
  {
   "cell_type": "code",
   "execution_count": 78,
   "id": "6196bf39",
   "metadata": {},
   "outputs": [
    {
     "name": "stdout",
     "output_type": "stream",
     "text": [
      "Out of Stock\n"
     ]
    }
   ],
   "source": [
    "try:\n",
    "    product1.find_element(by= By.CLASS_NAME, value=\"productHighlightOOS\").text\n",
    "    print(\"Out of Stock\")\n",
    "except:\n",
    "    pass"
   ]
  },
  {
   "cell_type": "code",
   "execution_count": 79,
   "id": "8db67133",
   "metadata": {},
   "outputs": [],
   "source": [
    "driver.quit()"
   ]
  },
  {
   "cell_type": "markdown",
   "id": "98e30d9a",
   "metadata": {},
   "source": [
    "wellcome"
   ]
  },
  {
   "cell_type": "code",
   "execution_count": 90,
   "id": "da92dc90",
   "metadata": {},
   "outputs": [],
   "source": [
    "options = Options()\n",
    "driver = webdriver.Chrome(options=options)\n",
    "driver.get(\"https://www.wellcome.com.hk/en/category/100011/11.html\")\n"
   ]
  },
  {
   "cell_type": "code",
   "execution_count": 91,
   "id": "049a363b",
   "metadata": {},
   "outputs": [],
   "source": [
    "products= driver.find_elements(by=By.CLASS_NAME, value=\"ware-wrapper\")"
   ]
  },
  {
   "cell_type": "code",
   "execution_count": 92,
   "id": "6e6224df",
   "metadata": {},
   "outputs": [],
   "source": [
    "product2= products[0]"
   ]
  },
  {
   "cell_type": "code",
   "execution_count": 93,
   "id": "711e6d0f",
   "metadata": {},
   "outputs": [
    {
     "name": "stdout",
     "output_type": "stream",
     "text": [
      "https://img.rtacdn-os.com/20220527/7e5ac6dd-0b04-4819-807c-f4e8d12421db_480x480H.webp\n"
     ]
    }
   ],
   "source": [
    "img_url= product2.find_element(by= By.TAG_NAME, value=\"img\").get_attribute(\"src\")\n",
    "print(img_url)"
   ]
  },
  {
   "cell_type": "code",
   "execution_count": 94,
   "id": "f674f716",
   "metadata": {},
   "outputs": [
    {
     "name": "stdout",
     "output_type": "stream",
     "text": [
      "USA WHITE PEACH 1 PK\n"
     ]
    }
   ],
   "source": [
    "name= product2.find_element(by= By.CLASS_NAME, value=\"promo\").text\n",
    "print(name)"
   ]
  },
  {
   "cell_type": "code",
   "execution_count": 95,
   "id": "cc39a594",
   "metadata": {},
   "outputs": [],
   "source": [
    "price = product2.find_element(by= By.CLASS_NAME, value=\"price\").text + product2.find_element(by= By.CLASS_NAME, value=\"small-price\").text"
   ]
  },
  {
   "cell_type": "code",
   "execution_count": 96,
   "id": "ec2d0d8c",
   "metadata": {},
   "outputs": [
    {
     "data": {
      "text/plain": [
       "'$32.00'"
      ]
     },
     "execution_count": 96,
     "metadata": {},
     "output_type": "execute_result"
    }
   ],
   "source": [
    "price"
   ]
  },
  {
   "cell_type": "code",
   "execution_count": 97,
   "id": "7bf5cf29",
   "metadata": {},
   "outputs": [
    {
     "name": "stdout",
     "output_type": "stream",
     "text": [
      "Out of Stock\n"
     ]
    }
   ],
   "source": [
    "try:\n",
    "    product2.find_element(by= By.CLASS_NAME, value=\"out-of-stock\").text\n",
    "    print(\"Out of Stock\")\n",
    "except:\n",
    "    pass"
   ]
  },
  {
   "cell_type": "code",
   "execution_count": 98,
   "id": "f2fd7802",
   "metadata": {},
   "outputs": [],
   "source": [
    "driver.quit()"
   ]
  },
  {
   "cell_type": "markdown",
   "id": "ee6d9631",
   "metadata": {},
   "source": [
    "Seed database\n"
   ]
  },
  {
   "cell_type": "code",
   "execution_count": 14,
   "id": "feb17d20",
   "metadata": {},
   "outputs": [],
   "source": [
    "from database import client"
   ]
  },
  {
   "cell_type": "code",
   "execution_count": 15,
   "id": "6fcbf5df",
   "metadata": {},
   "outputs": [],
   "source": [
    "from pydantic import BaseModel\n",
    "from typing import Optional\n",
    "\n",
    "class Product(BaseModel):\n",
    "    name: str\n",
    "    quantity: Optional[str]= None\n",
    "    price: float\n",
    "    image_url: str\n",
    "    is_in_stock: bool\n",
    "    brand: str\n"
   ]
  },
  {
   "cell_type": "code",
   "execution_count": 13,
   "id": "37f03a7a",
   "metadata": {},
   "outputs": [],
   "source": [
    "def scrape_parknshop(driver):\n",
    "    products= driver.find_elements(by=By.CLASS_NAME, value=\"productContainer\")\n",
    "    print(len(products), \"products found\")\n",
    "    scraped_products= []\n",
    "    for product in products:\n",
    "        img_url= product.find_element(by= By.TAG_NAME, value=\"img\").get_attribute(\"src\")\n",
    "        name= product.find_element(by= By.CLASS_NAME, value=\"name\").text\n",
    "        quantity = product.find_element(by= By.CLASS_NAME, value=\"productUnit\").text\n",
    "        price = float(product.find_element(by= By.CLASS_NAME, value=\"currentPrice\").text.replace(\"$\", \"\"))\n",
    "        try:\n",
    "            product.find_element(by= By.CLASS_NAME, value=\"productHighlightOOS\").text\n",
    "            is_in_stock= False  \n",
    "        except:\n",
    "            is_in_stock= True\n",
    "\n",
    "        p= Product(name=name, quantity=quantity, price=price, image_url=img_url, is_in_stock=is_in_stock, brand = \"ParknShop\")\n",
    "        scraped_products.append(p)\n",
    "    return scraped_products\n"
   ]
  },
  {
   "cell_type": "code",
   "execution_count": 16,
   "id": "1048f354",
   "metadata": {},
   "outputs": [],
   "source": [
    "options = Options()\n",
    "driver = webdriver.Chrome(options=options)\n",
    "driver.get(\"https://www.pns.hk/en/food-beverages/fruit/c/04090100\")"
   ]
  },
  {
   "cell_type": "code",
   "execution_count": 17,
   "id": "3b363b22",
   "metadata": {},
   "outputs": [],
   "source": [
    "def scroll_to_bottom(driver):\n",
    "    last_height = driver.execute_script(\"return document.body.scrollHeight\")\n",
    "    while True:\n",
    "    # Scroll to bottom\n",
    "        driver.execute_script(\"window.scrollTo(0, document.body.scrollHeight);\")\n",
    "        \n",
    "        # Wait for new content to load\n",
    "        time.sleep(5)  # Adjust based on site speed\n",
    "        \n",
    "        # Calculate new scroll height\n",
    "        new_height = driver.execute_script(\"return document.body.scrollHeight\")\n",
    "        \n",
    "        # Break if no new content loaded\n",
    "        if new_height == last_height:\n",
    "            break\n",
    "        last_height = new_height"
   ]
  },
  {
   "cell_type": "code",
   "execution_count": 18,
   "id": "ba314f23",
   "metadata": {},
   "outputs": [],
   "source": [
    "scroll_to_bottom(driver)"
   ]
  },
  {
   "cell_type": "code",
   "execution_count": 19,
   "id": "d3b4f60c",
   "metadata": {},
   "outputs": [
    {
     "name": "stdout",
     "output_type": "stream",
     "text": [
      "83 products found\n"
     ]
    }
   ],
   "source": [
    "scraped_fruits = scrape_parknshop(driver)\n",
    "driver.quit()"
   ]
  },
  {
   "cell_type": "code",
   "execution_count": 10,
   "id": "1678850f",
   "metadata": {},
   "outputs": [
    {
     "data": {
      "text/plain": [
       "[{'success': True},\n",
       " {'success': True},\n",
       " {'success': True},\n",
       " {'success': True},\n",
       " {'success': True},\n",
       " {'success': True},\n",
       " {'success': True},\n",
       " {'success': True},\n",
       " {'success': True},\n",
       " {'success': True},\n",
       " {'success': True},\n",
       " {'success': True},\n",
       " {'success': True},\n",
       " {'success': True},\n",
       " {'success': True},\n",
       " {'success': True},\n",
       " {'success': True},\n",
       " {'success': True},\n",
       " {'success': True},\n",
       " {'success': True},\n",
       " {'success': True},\n",
       " {'success': True},\n",
       " {'success': True},\n",
       " {'success': True},\n",
       " {'success': True},\n",
       " {'success': True},\n",
       " {'success': True},\n",
       " {'success': True},\n",
       " {'success': True},\n",
       " {'success': True},\n",
       " {'success': True},\n",
       " {'success': True},\n",
       " {'success': True},\n",
       " {'success': True},\n",
       " {'success': True},\n",
       " {'success': True},\n",
       " {'success': True},\n",
       " {'success': True},\n",
       " {'success': True},\n",
       " {'success': True},\n",
       " {'success': True},\n",
       " {'success': True},\n",
       " {'success': True},\n",
       " {'success': True},\n",
       " {'success': True},\n",
       " {'success': True},\n",
       " {'success': True},\n",
       " {'success': True},\n",
       " {'success': True},\n",
       " {'success': True},\n",
       " {'success': True},\n",
       " {'success': True},\n",
       " {'success': True},\n",
       " {'success': True},\n",
       " {'success': True},\n",
       " {'success': True},\n",
       " {'success': True},\n",
       " {'success': True},\n",
       " {'success': True},\n",
       " {'success': True},\n",
       " {'success': True},\n",
       " {'success': True},\n",
       " {'success': True},\n",
       " {'success': True},\n",
       " {'success': True},\n",
       " {'success': True},\n",
       " {'success': True},\n",
       " {'success': True},\n",
       " {'success': True},\n",
       " {'success': True},\n",
       " {'success': True},\n",
       " {'success': True},\n",
       " {'success': True},\n",
       " {'success': True},\n",
       " {'success': True},\n",
       " {'success': True},\n",
       " {'success': True},\n",
       " {'success': True},\n",
       " {'success': True},\n",
       " {'success': True},\n",
       " {'success': True},\n",
       " {'success': True},\n",
       " {'success': True}]"
      ]
     },
     "execution_count": 10,
     "metadata": {},
     "output_type": "execute_result"
    }
   ],
   "source": [
    "fruit_to_db =[fruit.model_dump() for fruit in scraped_fruits]\n",
    "client.collections['grocery'].documents.import_(fruit_to_db, {'action': 'create'})"
   ]
  },
  {
   "cell_type": "code",
   "execution_count": 20,
   "id": "d9656247",
   "metadata": {},
   "outputs": [],
   "source": [
    "options = Options()\n",
    "driver = webdriver.Chrome(options=options)\n",
    "driver.get(\"https://www.pns.hk/en/food-beverages/vegetable/c/04090200\")"
   ]
  },
  {
   "cell_type": "code",
   "execution_count": 21,
   "id": "e8760746",
   "metadata": {},
   "outputs": [],
   "source": [
    "scroll_to_bottom(driver)"
   ]
  },
  {
   "cell_type": "code",
   "execution_count": 22,
   "id": "b71b8084",
   "metadata": {},
   "outputs": [
    {
     "name": "stdout",
     "output_type": "stream",
     "text": [
      "121 products found\n"
     ]
    },
    {
     "ename": "KeyboardInterrupt",
     "evalue": "",
     "output_type": "error",
     "traceback": [
      "\u001b[31m---------------------------------------------------------------------------\u001b[39m",
      "\u001b[31mKeyboardInterrupt\u001b[39m                         Traceback (most recent call last)",
      "\u001b[36mCell\u001b[39m\u001b[36m \u001b[39m\u001b[32mIn[22]\u001b[39m\u001b[32m, line 1\u001b[39m\n\u001b[32m----> \u001b[39m\u001b[32m1\u001b[39m scraped_veggies = \u001b[43mscrape_parknshop\u001b[49m\u001b[43m(\u001b[49m\u001b[43mdriver\u001b[49m\u001b[43m)\u001b[49m\n\u001b[32m      2\u001b[39m driver.quit()\n",
      "\u001b[36mCell\u001b[39m\u001b[36m \u001b[39m\u001b[32mIn[13]\u001b[39m\u001b[32m, line 7\u001b[39m, in \u001b[36mscrape_parknshop\u001b[39m\u001b[34m(driver)\u001b[39m\n\u001b[32m      5\u001b[39m \u001b[38;5;28;01mfor\u001b[39;00m product \u001b[38;5;129;01min\u001b[39;00m products:\n\u001b[32m      6\u001b[39m     img_url= product.find_element(by= By.TAG_NAME, value=\u001b[33m\"\u001b[39m\u001b[33mimg\u001b[39m\u001b[33m\"\u001b[39m).get_attribute(\u001b[33m\"\u001b[39m\u001b[33msrc\u001b[39m\u001b[33m\"\u001b[39m)\n\u001b[32m----> \u001b[39m\u001b[32m7\u001b[39m     name= \u001b[43mproduct\u001b[49m\u001b[43m.\u001b[49m\u001b[43mfind_element\u001b[49m\u001b[43m(\u001b[49m\u001b[43mby\u001b[49m\u001b[43m=\u001b[49m\u001b[43m \u001b[49m\u001b[43mBy\u001b[49m\u001b[43m.\u001b[49m\u001b[43mCLASS_NAME\u001b[49m\u001b[43m,\u001b[49m\u001b[43m \u001b[49m\u001b[43mvalue\u001b[49m\u001b[43m=\u001b[49m\u001b[33;43m\"\u001b[39;49m\u001b[33;43mname\u001b[39;49m\u001b[33;43m\"\u001b[39;49m\u001b[43m)\u001b[49m\u001b[43m.\u001b[49m\u001b[43mtext\u001b[49m\n\u001b[32m      8\u001b[39m     quantity = product.find_element(by= By.CLASS_NAME, value=\u001b[33m\"\u001b[39m\u001b[33mproductUnit\u001b[39m\u001b[33m\"\u001b[39m).text\n\u001b[32m      9\u001b[39m     price = \u001b[38;5;28mfloat\u001b[39m(product.find_element(by= By.CLASS_NAME, value=\u001b[33m\"\u001b[39m\u001b[33mcurrentPrice\u001b[39m\u001b[33m\"\u001b[39m).text.replace(\u001b[33m\"\u001b[39m\u001b[33m$\u001b[39m\u001b[33m\"\u001b[39m, \u001b[33m\"\u001b[39m\u001b[33m\"\u001b[39m))\n",
      "\u001b[36mFile \u001b[39m\u001b[32mc:\\Users\\USER\\miniconda3\\envs\\grocery\\Lib\\site-packages\\selenium\\webdriver\\remote\\webelement.py:110\u001b[39m, in \u001b[36mWebElement.text\u001b[39m\u001b[34m(self)\u001b[39m\n\u001b[32m     97\u001b[39m \u001b[38;5;129m@property\u001b[39m\n\u001b[32m     98\u001b[39m \u001b[38;5;28;01mdef\u001b[39;00m\u001b[38;5;250m \u001b[39m\u001b[34mtext\u001b[39m(\u001b[38;5;28mself\u001b[39m) -> \u001b[38;5;28mstr\u001b[39m:\n\u001b[32m     99\u001b[39m \u001b[38;5;250m    \u001b[39m\u001b[33;03m\"\"\"The text of the element.\u001b[39;00m\n\u001b[32m    100\u001b[39m \n\u001b[32m    101\u001b[39m \u001b[33;03m    Returns:\u001b[39;00m\n\u001b[32m   (...)\u001b[39m\u001b[32m    108\u001b[39m \u001b[33;03m    >>> print(element.text)\u001b[39;00m\n\u001b[32m    109\u001b[39m \u001b[33;03m    \"\"\"\u001b[39;00m\n\u001b[32m--> \u001b[39m\u001b[32m110\u001b[39m     \u001b[38;5;28;01mreturn\u001b[39;00m \u001b[38;5;28;43mself\u001b[39;49m\u001b[43m.\u001b[49m\u001b[43m_execute\u001b[49m\u001b[43m(\u001b[49m\u001b[43mCommand\u001b[49m\u001b[43m.\u001b[49m\u001b[43mGET_ELEMENT_TEXT\u001b[49m\u001b[43m)\u001b[49m[\u001b[33m\"\u001b[39m\u001b[33mvalue\u001b[39m\u001b[33m\"\u001b[39m]\n",
      "\u001b[36mFile \u001b[39m\u001b[32mc:\\Users\\USER\\miniconda3\\envs\\grocery\\Lib\\site-packages\\selenium\\webdriver\\remote\\webelement.py:573\u001b[39m, in \u001b[36mWebElement._execute\u001b[39m\u001b[34m(self, command, params)\u001b[39m\n\u001b[32m    571\u001b[39m     params = {}\n\u001b[32m    572\u001b[39m params[\u001b[33m\"\u001b[39m\u001b[33mid\u001b[39m\u001b[33m\"\u001b[39m] = \u001b[38;5;28mself\u001b[39m._id\n\u001b[32m--> \u001b[39m\u001b[32m573\u001b[39m \u001b[38;5;28;01mreturn\u001b[39;00m \u001b[38;5;28;43mself\u001b[39;49m\u001b[43m.\u001b[49m\u001b[43m_parent\u001b[49m\u001b[43m.\u001b[49m\u001b[43mexecute\u001b[49m\u001b[43m(\u001b[49m\u001b[43mcommand\u001b[49m\u001b[43m,\u001b[49m\u001b[43m \u001b[49m\u001b[43mparams\u001b[49m\u001b[43m)\u001b[49m\n",
      "\u001b[36mFile \u001b[39m\u001b[32mc:\\Users\\USER\\miniconda3\\envs\\grocery\\Lib\\site-packages\\selenium\\webdriver\\remote\\webdriver.py:455\u001b[39m, in \u001b[36mWebDriver.execute\u001b[39m\u001b[34m(self, driver_command, params)\u001b[39m\n\u001b[32m    452\u001b[39m     \u001b[38;5;28;01melif\u001b[39;00m \u001b[33m\"\u001b[39m\u001b[33msessionId\u001b[39m\u001b[33m\"\u001b[39m \u001b[38;5;129;01mnot\u001b[39;00m \u001b[38;5;129;01min\u001b[39;00m params:\n\u001b[32m    453\u001b[39m         params[\u001b[33m\"\u001b[39m\u001b[33msessionId\u001b[39m\u001b[33m\"\u001b[39m] = \u001b[38;5;28mself\u001b[39m.session_id\n\u001b[32m--> \u001b[39m\u001b[32m455\u001b[39m response = \u001b[43mcast\u001b[49m\u001b[43m(\u001b[49m\u001b[43mRemoteConnection\u001b[49m\u001b[43m,\u001b[49m\u001b[43m \u001b[49m\u001b[38;5;28;43mself\u001b[39;49m\u001b[43m.\u001b[49m\u001b[43mcommand_executor\u001b[49m\u001b[43m)\u001b[49m\u001b[43m.\u001b[49m\u001b[43mexecute\u001b[49m\u001b[43m(\u001b[49m\u001b[43mdriver_command\u001b[49m\u001b[43m,\u001b[49m\u001b[43m \u001b[49m\u001b[43mparams\u001b[49m\u001b[43m)\u001b[49m\n\u001b[32m    457\u001b[39m \u001b[38;5;28;01mif\u001b[39;00m response:\n\u001b[32m    458\u001b[39m     \u001b[38;5;28mself\u001b[39m.error_handler.check_response(response)\n",
      "\u001b[36mFile \u001b[39m\u001b[32mc:\\Users\\USER\\miniconda3\\envs\\grocery\\Lib\\site-packages\\selenium\\webdriver\\remote\\remote_connection.py:406\u001b[39m, in \u001b[36mRemoteConnection.execute\u001b[39m\u001b[34m(self, command, params)\u001b[39m\n\u001b[32m    404\u001b[39m trimmed = \u001b[38;5;28mself\u001b[39m._trim_large_entries(params)\n\u001b[32m    405\u001b[39m LOGGER.debug(\u001b[33m\"\u001b[39m\u001b[38;5;132;01m%s\u001b[39;00m\u001b[33m \u001b[39m\u001b[38;5;132;01m%s\u001b[39;00m\u001b[33m \u001b[39m\u001b[38;5;132;01m%s\u001b[39;00m\u001b[33m\"\u001b[39m, command_info[\u001b[32m0\u001b[39m], url, \u001b[38;5;28mstr\u001b[39m(trimmed))\n\u001b[32m--> \u001b[39m\u001b[32m406\u001b[39m \u001b[38;5;28;01mreturn\u001b[39;00m \u001b[38;5;28;43mself\u001b[39;49m\u001b[43m.\u001b[49m\u001b[43m_request\u001b[49m\u001b[43m(\u001b[49m\u001b[43mcommand_info\u001b[49m\u001b[43m[\u001b[49m\u001b[32;43m0\u001b[39;49m\u001b[43m]\u001b[49m\u001b[43m,\u001b[49m\u001b[43m \u001b[49m\u001b[43murl\u001b[49m\u001b[43m,\u001b[49m\u001b[43m \u001b[49m\u001b[43mbody\u001b[49m\u001b[43m=\u001b[49m\u001b[43mdata\u001b[49m\u001b[43m)\u001b[49m\n",
      "\u001b[36mFile \u001b[39m\u001b[32mc:\\Users\\USER\\miniconda3\\envs\\grocery\\Lib\\site-packages\\selenium\\webdriver\\remote\\remote_connection.py:430\u001b[39m, in \u001b[36mRemoteConnection._request\u001b[39m\u001b[34m(self, method, url, body)\u001b[39m\n\u001b[32m    427\u001b[39m     body = \u001b[38;5;28;01mNone\u001b[39;00m\n\u001b[32m    429\u001b[39m \u001b[38;5;28;01mif\u001b[39;00m \u001b[38;5;28mself\u001b[39m._client_config.keep_alive:\n\u001b[32m--> \u001b[39m\u001b[32m430\u001b[39m     response = \u001b[38;5;28;43mself\u001b[39;49m\u001b[43m.\u001b[49m\u001b[43m_conn\u001b[49m\u001b[43m.\u001b[49m\u001b[43mrequest\u001b[49m\u001b[43m(\u001b[49m\u001b[43mmethod\u001b[49m\u001b[43m,\u001b[49m\u001b[43m \u001b[49m\u001b[43murl\u001b[49m\u001b[43m,\u001b[49m\u001b[43m \u001b[49m\u001b[43mbody\u001b[49m\u001b[43m=\u001b[49m\u001b[43mbody\u001b[49m\u001b[43m,\u001b[49m\u001b[43m \u001b[49m\u001b[43mheaders\u001b[49m\u001b[43m=\u001b[49m\u001b[43mheaders\u001b[49m\u001b[43m,\u001b[49m\u001b[43m \u001b[49m\u001b[43mtimeout\u001b[49m\u001b[43m=\u001b[49m\u001b[38;5;28;43mself\u001b[39;49m\u001b[43m.\u001b[49m\u001b[43m_client_config\u001b[49m\u001b[43m.\u001b[49m\u001b[43mtimeout\u001b[49m\u001b[43m)\u001b[49m\n\u001b[32m    431\u001b[39m     statuscode = response.status\n\u001b[32m    432\u001b[39m \u001b[38;5;28;01melse\u001b[39;00m:\n",
      "\u001b[36mFile \u001b[39m\u001b[32mc:\\Users\\USER\\miniconda3\\envs\\grocery\\Lib\\site-packages\\urllib3\\_request_methods.py:135\u001b[39m, in \u001b[36mRequestMethods.request\u001b[39m\u001b[34m(self, method, url, body, fields, headers, json, **urlopen_kw)\u001b[39m\n\u001b[32m    132\u001b[39m     urlopen_kw[\u001b[33m\"\u001b[39m\u001b[33mbody\u001b[39m\u001b[33m\"\u001b[39m] = body\n\u001b[32m    134\u001b[39m \u001b[38;5;28;01mif\u001b[39;00m method \u001b[38;5;129;01min\u001b[39;00m \u001b[38;5;28mself\u001b[39m._encode_url_methods:\n\u001b[32m--> \u001b[39m\u001b[32m135\u001b[39m     \u001b[38;5;28;01mreturn\u001b[39;00m \u001b[38;5;28;43mself\u001b[39;49m\u001b[43m.\u001b[49m\u001b[43mrequest_encode_url\u001b[49m\u001b[43m(\u001b[49m\n\u001b[32m    136\u001b[39m \u001b[43m        \u001b[49m\u001b[43mmethod\u001b[49m\u001b[43m,\u001b[49m\n\u001b[32m    137\u001b[39m \u001b[43m        \u001b[49m\u001b[43murl\u001b[49m\u001b[43m,\u001b[49m\n\u001b[32m    138\u001b[39m \u001b[43m        \u001b[49m\u001b[43mfields\u001b[49m\u001b[43m=\u001b[49m\u001b[43mfields\u001b[49m\u001b[43m,\u001b[49m\u001b[43m  \u001b[49m\u001b[38;5;66;43;03m# type: ignore[arg-type]\u001b[39;49;00m\n\u001b[32m    139\u001b[39m \u001b[43m        \u001b[49m\u001b[43mheaders\u001b[49m\u001b[43m=\u001b[49m\u001b[43mheaders\u001b[49m\u001b[43m,\u001b[49m\n\u001b[32m    140\u001b[39m \u001b[43m        \u001b[49m\u001b[43m*\u001b[49m\u001b[43m*\u001b[49m\u001b[43murlopen_kw\u001b[49m\u001b[43m,\u001b[49m\n\u001b[32m    141\u001b[39m \u001b[43m    \u001b[49m\u001b[43m)\u001b[49m\n\u001b[32m    142\u001b[39m \u001b[38;5;28;01melse\u001b[39;00m:\n\u001b[32m    143\u001b[39m     \u001b[38;5;28;01mreturn\u001b[39;00m \u001b[38;5;28mself\u001b[39m.request_encode_body(\n\u001b[32m    144\u001b[39m         method, url, fields=fields, headers=headers, **urlopen_kw\n\u001b[32m    145\u001b[39m     )\n",
      "\u001b[36mFile \u001b[39m\u001b[32mc:\\Users\\USER\\miniconda3\\envs\\grocery\\Lib\\site-packages\\urllib3\\_request_methods.py:182\u001b[39m, in \u001b[36mRequestMethods.request_encode_url\u001b[39m\u001b[34m(self, method, url, fields, headers, **urlopen_kw)\u001b[39m\n\u001b[32m    179\u001b[39m \u001b[38;5;28;01mif\u001b[39;00m fields:\n\u001b[32m    180\u001b[39m     url += \u001b[33m\"\u001b[39m\u001b[33m?\u001b[39m\u001b[33m\"\u001b[39m + urlencode(fields)\n\u001b[32m--> \u001b[39m\u001b[32m182\u001b[39m \u001b[38;5;28;01mreturn\u001b[39;00m \u001b[38;5;28;43mself\u001b[39;49m\u001b[43m.\u001b[49m\u001b[43murlopen\u001b[49m\u001b[43m(\u001b[49m\u001b[43mmethod\u001b[49m\u001b[43m,\u001b[49m\u001b[43m \u001b[49m\u001b[43murl\u001b[49m\u001b[43m,\u001b[49m\u001b[43m \u001b[49m\u001b[43m*\u001b[49m\u001b[43m*\u001b[49m\u001b[43mextra_kw\u001b[49m\u001b[43m)\u001b[49m\n",
      "\u001b[36mFile \u001b[39m\u001b[32mc:\\Users\\USER\\miniconda3\\envs\\grocery\\Lib\\site-packages\\urllib3\\poolmanager.py:459\u001b[39m, in \u001b[36mPoolManager.urlopen\u001b[39m\u001b[34m(self, method, url, redirect, **kw)\u001b[39m\n\u001b[32m    457\u001b[39m     response = conn.urlopen(method, url, **kw)\n\u001b[32m    458\u001b[39m \u001b[38;5;28;01melse\u001b[39;00m:\n\u001b[32m--> \u001b[39m\u001b[32m459\u001b[39m     response = \u001b[43mconn\u001b[49m\u001b[43m.\u001b[49m\u001b[43murlopen\u001b[49m\u001b[43m(\u001b[49m\u001b[43mmethod\u001b[49m\u001b[43m,\u001b[49m\u001b[43m \u001b[49m\u001b[43mu\u001b[49m\u001b[43m.\u001b[49m\u001b[43mrequest_uri\u001b[49m\u001b[43m,\u001b[49m\u001b[43m \u001b[49m\u001b[43m*\u001b[49m\u001b[43m*\u001b[49m\u001b[43mkw\u001b[49m\u001b[43m)\u001b[49m\n\u001b[32m    461\u001b[39m redirect_location = redirect \u001b[38;5;129;01mand\u001b[39;00m response.get_redirect_location()\n\u001b[32m    462\u001b[39m \u001b[38;5;28;01mif\u001b[39;00m \u001b[38;5;129;01mnot\u001b[39;00m redirect_location:\n",
      "\u001b[36mFile \u001b[39m\u001b[32mc:\\Users\\USER\\miniconda3\\envs\\grocery\\Lib\\site-packages\\urllib3\\connectionpool.py:787\u001b[39m, in \u001b[36mHTTPConnectionPool.urlopen\u001b[39m\u001b[34m(self, method, url, body, headers, retries, redirect, assert_same_host, timeout, pool_timeout, release_conn, chunked, body_pos, preload_content, decode_content, **response_kw)\u001b[39m\n\u001b[32m    784\u001b[39m response_conn = conn \u001b[38;5;28;01mif\u001b[39;00m \u001b[38;5;129;01mnot\u001b[39;00m release_conn \u001b[38;5;28;01melse\u001b[39;00m \u001b[38;5;28;01mNone\u001b[39;00m\n\u001b[32m    786\u001b[39m \u001b[38;5;66;03m# Make the request on the HTTPConnection object\u001b[39;00m\n\u001b[32m--> \u001b[39m\u001b[32m787\u001b[39m response = \u001b[38;5;28;43mself\u001b[39;49m\u001b[43m.\u001b[49m\u001b[43m_make_request\u001b[49m\u001b[43m(\u001b[49m\n\u001b[32m    788\u001b[39m \u001b[43m    \u001b[49m\u001b[43mconn\u001b[49m\u001b[43m,\u001b[49m\n\u001b[32m    789\u001b[39m \u001b[43m    \u001b[49m\u001b[43mmethod\u001b[49m\u001b[43m,\u001b[49m\n\u001b[32m    790\u001b[39m \u001b[43m    \u001b[49m\u001b[43murl\u001b[49m\u001b[43m,\u001b[49m\n\u001b[32m    791\u001b[39m \u001b[43m    \u001b[49m\u001b[43mtimeout\u001b[49m\u001b[43m=\u001b[49m\u001b[43mtimeout_obj\u001b[49m\u001b[43m,\u001b[49m\n\u001b[32m    792\u001b[39m \u001b[43m    \u001b[49m\u001b[43mbody\u001b[49m\u001b[43m=\u001b[49m\u001b[43mbody\u001b[49m\u001b[43m,\u001b[49m\n\u001b[32m    793\u001b[39m \u001b[43m    \u001b[49m\u001b[43mheaders\u001b[49m\u001b[43m=\u001b[49m\u001b[43mheaders\u001b[49m\u001b[43m,\u001b[49m\n\u001b[32m    794\u001b[39m \u001b[43m    \u001b[49m\u001b[43mchunked\u001b[49m\u001b[43m=\u001b[49m\u001b[43mchunked\u001b[49m\u001b[43m,\u001b[49m\n\u001b[32m    795\u001b[39m \u001b[43m    \u001b[49m\u001b[43mretries\u001b[49m\u001b[43m=\u001b[49m\u001b[43mretries\u001b[49m\u001b[43m,\u001b[49m\n\u001b[32m    796\u001b[39m \u001b[43m    \u001b[49m\u001b[43mresponse_conn\u001b[49m\u001b[43m=\u001b[49m\u001b[43mresponse_conn\u001b[49m\u001b[43m,\u001b[49m\n\u001b[32m    797\u001b[39m \u001b[43m    \u001b[49m\u001b[43mpreload_content\u001b[49m\u001b[43m=\u001b[49m\u001b[43mpreload_content\u001b[49m\u001b[43m,\u001b[49m\n\u001b[32m    798\u001b[39m \u001b[43m    \u001b[49m\u001b[43mdecode_content\u001b[49m\u001b[43m=\u001b[49m\u001b[43mdecode_content\u001b[49m\u001b[43m,\u001b[49m\n\u001b[32m    799\u001b[39m \u001b[43m    \u001b[49m\u001b[43m*\u001b[49m\u001b[43m*\u001b[49m\u001b[43mresponse_kw\u001b[49m\u001b[43m,\u001b[49m\n\u001b[32m    800\u001b[39m \u001b[43m\u001b[49m\u001b[43m)\u001b[49m\n\u001b[32m    802\u001b[39m \u001b[38;5;66;03m# Everything went great!\u001b[39;00m\n\u001b[32m    803\u001b[39m clean_exit = \u001b[38;5;28;01mTrue\u001b[39;00m\n",
      "\u001b[36mFile \u001b[39m\u001b[32mc:\\Users\\USER\\miniconda3\\envs\\grocery\\Lib\\site-packages\\urllib3\\connectionpool.py:534\u001b[39m, in \u001b[36mHTTPConnectionPool._make_request\u001b[39m\u001b[34m(self, conn, method, url, body, headers, retries, timeout, chunked, response_conn, preload_content, decode_content, enforce_content_length)\u001b[39m\n\u001b[32m    532\u001b[39m \u001b[38;5;66;03m# Receive the response from the server\u001b[39;00m\n\u001b[32m    533\u001b[39m \u001b[38;5;28;01mtry\u001b[39;00m:\n\u001b[32m--> \u001b[39m\u001b[32m534\u001b[39m     response = \u001b[43mconn\u001b[49m\u001b[43m.\u001b[49m\u001b[43mgetresponse\u001b[49m\u001b[43m(\u001b[49m\u001b[43m)\u001b[49m\n\u001b[32m    535\u001b[39m \u001b[38;5;28;01mexcept\u001b[39;00m (BaseSSLError, \u001b[38;5;167;01mOSError\u001b[39;00m) \u001b[38;5;28;01mas\u001b[39;00m e:\n\u001b[32m    536\u001b[39m     \u001b[38;5;28mself\u001b[39m._raise_timeout(err=e, url=url, timeout_value=read_timeout)\n",
      "\u001b[36mFile \u001b[39m\u001b[32mc:\\Users\\USER\\miniconda3\\envs\\grocery\\Lib\\site-packages\\urllib3\\connection.py:565\u001b[39m, in \u001b[36mHTTPConnection.getresponse\u001b[39m\u001b[34m(self)\u001b[39m\n\u001b[32m    562\u001b[39m _shutdown = \u001b[38;5;28mgetattr\u001b[39m(\u001b[38;5;28mself\u001b[39m.sock, \u001b[33m\"\u001b[39m\u001b[33mshutdown\u001b[39m\u001b[33m\"\u001b[39m, \u001b[38;5;28;01mNone\u001b[39;00m)\n\u001b[32m    564\u001b[39m \u001b[38;5;66;03m# Get the response from http.client.HTTPConnection\u001b[39;00m\n\u001b[32m--> \u001b[39m\u001b[32m565\u001b[39m httplib_response = \u001b[38;5;28;43msuper\u001b[39;49m\u001b[43m(\u001b[49m\u001b[43m)\u001b[49m\u001b[43m.\u001b[49m\u001b[43mgetresponse\u001b[49m\u001b[43m(\u001b[49m\u001b[43m)\u001b[49m\n\u001b[32m    567\u001b[39m \u001b[38;5;28;01mtry\u001b[39;00m:\n\u001b[32m    568\u001b[39m     assert_header_parsing(httplib_response.msg)\n",
      "\u001b[36mFile \u001b[39m\u001b[32mc:\\Users\\USER\\miniconda3\\envs\\grocery\\Lib\\http\\client.py:1430\u001b[39m, in \u001b[36mHTTPConnection.getresponse\u001b[39m\u001b[34m(self)\u001b[39m\n\u001b[32m   1428\u001b[39m \u001b[38;5;28;01mtry\u001b[39;00m:\n\u001b[32m   1429\u001b[39m     \u001b[38;5;28;01mtry\u001b[39;00m:\n\u001b[32m-> \u001b[39m\u001b[32m1430\u001b[39m         \u001b[43mresponse\u001b[49m\u001b[43m.\u001b[49m\u001b[43mbegin\u001b[49m\u001b[43m(\u001b[49m\u001b[43m)\u001b[49m\n\u001b[32m   1431\u001b[39m     \u001b[38;5;28;01mexcept\u001b[39;00m \u001b[38;5;167;01mConnectionError\u001b[39;00m:\n\u001b[32m   1432\u001b[39m         \u001b[38;5;28mself\u001b[39m.close()\n",
      "\u001b[36mFile \u001b[39m\u001b[32mc:\\Users\\USER\\miniconda3\\envs\\grocery\\Lib\\http\\client.py:331\u001b[39m, in \u001b[36mHTTPResponse.begin\u001b[39m\u001b[34m(self)\u001b[39m\n\u001b[32m    329\u001b[39m \u001b[38;5;66;03m# read until we get a non-100 response\u001b[39;00m\n\u001b[32m    330\u001b[39m \u001b[38;5;28;01mwhile\u001b[39;00m \u001b[38;5;28;01mTrue\u001b[39;00m:\n\u001b[32m--> \u001b[39m\u001b[32m331\u001b[39m     version, status, reason = \u001b[38;5;28;43mself\u001b[39;49m\u001b[43m.\u001b[49m\u001b[43m_read_status\u001b[49m\u001b[43m(\u001b[49m\u001b[43m)\u001b[49m\n\u001b[32m    332\u001b[39m     \u001b[38;5;28;01mif\u001b[39;00m status != CONTINUE:\n\u001b[32m    333\u001b[39m         \u001b[38;5;28;01mbreak\u001b[39;00m\n",
      "\u001b[36mFile \u001b[39m\u001b[32mc:\\Users\\USER\\miniconda3\\envs\\grocery\\Lib\\http\\client.py:292\u001b[39m, in \u001b[36mHTTPResponse._read_status\u001b[39m\u001b[34m(self)\u001b[39m\n\u001b[32m    291\u001b[39m \u001b[38;5;28;01mdef\u001b[39;00m\u001b[38;5;250m \u001b[39m\u001b[34m_read_status\u001b[39m(\u001b[38;5;28mself\u001b[39m):\n\u001b[32m--> \u001b[39m\u001b[32m292\u001b[39m     line = \u001b[38;5;28mstr\u001b[39m(\u001b[38;5;28;43mself\u001b[39;49m\u001b[43m.\u001b[49m\u001b[43mfp\u001b[49m\u001b[43m.\u001b[49m\u001b[43mreadline\u001b[49m\u001b[43m(\u001b[49m\u001b[43m_MAXLINE\u001b[49m\u001b[43m \u001b[49m\u001b[43m+\u001b[49m\u001b[43m \u001b[49m\u001b[32;43m1\u001b[39;49m\u001b[43m)\u001b[49m, \u001b[33m\"\u001b[39m\u001b[33miso-8859-1\u001b[39m\u001b[33m\"\u001b[39m)\n\u001b[32m    293\u001b[39m     \u001b[38;5;28;01mif\u001b[39;00m \u001b[38;5;28mlen\u001b[39m(line) > _MAXLINE:\n\u001b[32m    294\u001b[39m         \u001b[38;5;28;01mraise\u001b[39;00m LineTooLong(\u001b[33m\"\u001b[39m\u001b[33mstatus line\u001b[39m\u001b[33m\"\u001b[39m)\n",
      "\u001b[36mFile \u001b[39m\u001b[32mc:\\Users\\USER\\miniconda3\\envs\\grocery\\Lib\\socket.py:720\u001b[39m, in \u001b[36mSocketIO.readinto\u001b[39m\u001b[34m(self, b)\u001b[39m\n\u001b[32m    718\u001b[39m \u001b[38;5;28;01mwhile\u001b[39;00m \u001b[38;5;28;01mTrue\u001b[39;00m:\n\u001b[32m    719\u001b[39m     \u001b[38;5;28;01mtry\u001b[39;00m:\n\u001b[32m--> \u001b[39m\u001b[32m720\u001b[39m         \u001b[38;5;28;01mreturn\u001b[39;00m \u001b[38;5;28;43mself\u001b[39;49m\u001b[43m.\u001b[49m\u001b[43m_sock\u001b[49m\u001b[43m.\u001b[49m\u001b[43mrecv_into\u001b[49m\u001b[43m(\u001b[49m\u001b[43mb\u001b[49m\u001b[43m)\u001b[49m\n\u001b[32m    721\u001b[39m     \u001b[38;5;28;01mexcept\u001b[39;00m timeout:\n\u001b[32m    722\u001b[39m         \u001b[38;5;28mself\u001b[39m._timeout_occurred = \u001b[38;5;28;01mTrue\u001b[39;00m\n",
      "\u001b[31mKeyboardInterrupt\u001b[39m: "
     ]
    }
   ],
   "source": [
    "scraped_veggies = scrape_parknshop(driver)\n",
    "driver.quit()"
   ]
  },
  {
   "cell_type": "code",
   "execution_count": 13,
   "id": "25043d9f",
   "metadata": {},
   "outputs": [
    {
     "data": {
      "text/plain": [
       "[{'success': True},\n",
       " {'success': True},\n",
       " {'success': True},\n",
       " {'success': True},\n",
       " {'success': True},\n",
       " {'success': True},\n",
       " {'success': True},\n",
       " {'success': True},\n",
       " {'success': True},\n",
       " {'success': True},\n",
       " {'success': True},\n",
       " {'success': True},\n",
       " {'success': True},\n",
       " {'success': True},\n",
       " {'success': True},\n",
       " {'success': True},\n",
       " {'success': True},\n",
       " {'success': True},\n",
       " {'success': True},\n",
       " {'success': True},\n",
       " {'success': True},\n",
       " {'success': True},\n",
       " {'success': True},\n",
       " {'success': True},\n",
       " {'success': True},\n",
       " {'success': True},\n",
       " {'success': True},\n",
       " {'success': True},\n",
       " {'success': True},\n",
       " {'success': True},\n",
       " {'success': True},\n",
       " {'success': True},\n",
       " {'success': True},\n",
       " {'success': True},\n",
       " {'success': True},\n",
       " {'success': True},\n",
       " {'success': True},\n",
       " {'success': True},\n",
       " {'success': True},\n",
       " {'success': True},\n",
       " {'success': True},\n",
       " {'success': True},\n",
       " {'success': True},\n",
       " {'success': True},\n",
       " {'success': True},\n",
       " {'success': True},\n",
       " {'success': True},\n",
       " {'success': True},\n",
       " {'success': True},\n",
       " {'success': True},\n",
       " {'success': True},\n",
       " {'success': True},\n",
       " {'success': True},\n",
       " {'success': True},\n",
       " {'success': True},\n",
       " {'success': True},\n",
       " {'success': True},\n",
       " {'success': True},\n",
       " {'success': True},\n",
       " {'success': True},\n",
       " {'success': True},\n",
       " {'success': True},\n",
       " {'success': True},\n",
       " {'success': True},\n",
       " {'success': True},\n",
       " {'success': True},\n",
       " {'success': True},\n",
       " {'success': True},\n",
       " {'success': True},\n",
       " {'success': True},\n",
       " {'success': True},\n",
       " {'success': True},\n",
       " {'success': True},\n",
       " {'success': True},\n",
       " {'success': True},\n",
       " {'success': True},\n",
       " {'success': True},\n",
       " {'success': True},\n",
       " {'success': True},\n",
       " {'success': True},\n",
       " {'success': True},\n",
       " {'success': True},\n",
       " {'success': True},\n",
       " {'success': True},\n",
       " {'success': True},\n",
       " {'success': True},\n",
       " {'success': True},\n",
       " {'success': True},\n",
       " {'success': True},\n",
       " {'success': True},\n",
       " {'success': True},\n",
       " {'success': True},\n",
       " {'success': True},\n",
       " {'success': True},\n",
       " {'success': True},\n",
       " {'success': True},\n",
       " {'success': True},\n",
       " {'success': True},\n",
       " {'success': True},\n",
       " {'success': True},\n",
       " {'success': True},\n",
       " {'success': True},\n",
       " {'success': True},\n",
       " {'success': True},\n",
       " {'success': True},\n",
       " {'success': True},\n",
       " {'success': True},\n",
       " {'success': True},\n",
       " {'success': True},\n",
       " {'success': True},\n",
       " {'success': True},\n",
       " {'success': True},\n",
       " {'success': True},\n",
       " {'success': True},\n",
       " {'success': True},\n",
       " {'success': True},\n",
       " {'success': True},\n",
       " {'success': True},\n",
       " {'success': True},\n",
       " {'success': True},\n",
       " {'success': True}]"
      ]
     },
     "execution_count": 13,
     "metadata": {},
     "output_type": "execute_result"
    }
   ],
   "source": [
    "veg_to_db =[veg.model_dump() for veg in scraped_veggies]\n",
    "client.collections['grocery'].documents.import_(veg_to_db, {'action': 'create'})"
   ]
  },
  {
   "cell_type": "code",
   "execution_count": 25,
   "id": "af1edd2f",
   "metadata": {},
   "outputs": [],
   "source": [
    "import re\n",
    "def split_on_first_number(s):\n",
    "    match = re.search(r'\\d+', s)\n",
    "    if match:\n",
    "        start = match.start()\n",
    "        return s[:start], s[start:]\n",
    "    else:\n",
    "        return s, None  # No number found"
   ]
  },
  {
   "cell_type": "code",
   "execution_count": 18,
   "id": "d9e00ccd",
   "metadata": {},
   "outputs": [
    {
     "data": {
      "text/plain": [
       "('Fresh apples', None)"
      ]
     },
     "execution_count": 18,
     "metadata": {},
     "output_type": "execute_result"
    }
   ],
   "source": [
    "split_on_first_number(\"Fresh apples\")"
   ]
  },
  {
   "cell_type": "code",
   "execution_count": 38,
   "id": "43793575",
   "metadata": {},
   "outputs": [],
   "source": [
    "def slow_scroll(driver):\n",
    "    scroll_pause = 0.5  # seconds between scrolls\n",
    "    scroll_step = 300   # pixels to scroll each time\n",
    "\n",
    "    current_position = 0\n",
    "    while True:\n",
    "        driver.execute_script(f\"window.scrollTo(0, {current_position});\")\n",
    "        time.sleep(scroll_pause)\n",
    "        new_position = driver.execute_script(\"return window.pageYOffset + window.innerHeight\")\n",
    "        total_height = driver.execute_script(\"return document.body.scrollHeight\")\n",
    "        \n",
    "        if new_position >= total_height:\n",
    "            break\n",
    "        current_position += scroll_step"
   ]
  },
  {
   "cell_type": "code",
   "execution_count": 39,
   "id": "69a1499d",
   "metadata": {},
   "outputs": [],
   "source": [
    "def scrape_wellcome():\n",
    "    for i in range(1, 12):\n",
    "        options = Options()\n",
    "        driver = webdriver.Chrome(options=options)\n",
    "        driver.get(f\"https://www.wellcome.com.hk/en/category/100011/{i}.html\")\n",
    "        time.sleep(3)\n",
    "        slow_scroll(driver)\n",
    "        \n",
    "        products= driver.find_elements(by=By.CLASS_NAME, value=\"ware-wrapper\")\n",
    "        \n",
    "        for product in products:\n",
    "            try: \n",
    "                img_url= product.find_element(by= By.CLASS_NAME, value=\"el-image__inner\").get_attribute(\"src\")\n",
    "                name_quantity= product.find_element(by= By.CLASS_NAME, value=\"promo\").text\n",
    "                price_txt = product.find_element(by= By.CLASS_NAME, value=\"price\").text + product.find_element(by= By.CLASS_NAME, value=\"small-price\").text\n",
    "                price = float(price_txt.replace(\"$\", \"\"))\n",
    "                name, quantity = split_on_first_number(name_quantity)\n",
    "                try:\n",
    "                    product.find_element(by= By.CLASS_NAME, value=\"out-of-stock\").text\n",
    "                    is_in_stock = False\n",
    "                except:\n",
    "                    is_in_stock = True\n",
    "                p = Product(name=name, quantity=quantity, price=price, image_url=img_url, brand= \"Wellcome\", is_in_stock=is_in_stock)\n",
    "                yield p\n",
    "            except Exception as e:\n",
    "                print(f\"Error processing product: {e}\")\n",
    "                continue\n",
    "            \n",
    "        driver.quit()\n",
    "    return\n"
   ]
  },
  {
   "cell_type": "code",
   "execution_count": null,
   "id": "40d525bd",
   "metadata": {},
   "outputs": [],
   "source": []
  },
  {
   "cell_type": "code",
   "execution_count": 40,
   "id": "2d9a1a11",
   "metadata": {},
   "outputs": [],
   "source": [
    "wellcome_products = [product for product in scrape_wellcome()]"
   ]
  },
  {
   "cell_type": "code",
   "execution_count": 41,
   "id": "de8942b5",
   "metadata": {},
   "outputs": [
    {
     "data": {
      "text/plain": [
       "206"
      ]
     },
     "execution_count": 41,
     "metadata": {},
     "output_type": "execute_result"
    }
   ],
   "source": [
    "len(wellcome_products)"
   ]
  },
  {
   "cell_type": "code",
   "execution_count": 44,
   "id": "202fd563",
   "metadata": {},
   "outputs": [],
   "source": [
    "products_to_db = [product.model_dump() for product in wellcome_products]"
   ]
  },
  {
   "cell_type": "code",
   "execution_count": 50,
   "id": "78ecfbf7",
   "metadata": {},
   "outputs": [
    {
     "data": {
      "text/plain": [
       "[{'success': True},\n",
       " {'success': True},\n",
       " {'success': True},\n",
       " {'success': True},\n",
       " {'success': True},\n",
       " {'success': True},\n",
       " {'success': True},\n",
       " {'success': True},\n",
       " {'success': True},\n",
       " {'success': True},\n",
       " {'success': True},\n",
       " {'success': True},\n",
       " {'success': True},\n",
       " {'success': True},\n",
       " {'success': True},\n",
       " {'success': True},\n",
       " {'success': True},\n",
       " {'success': True},\n",
       " {'success': True},\n",
       " {'success': True},\n",
       " {'success': True},\n",
       " {'success': True},\n",
       " {'success': True},\n",
       " {'success': True},\n",
       " {'success': True},\n",
       " {'success': True},\n",
       " {'success': True},\n",
       " {'success': True},\n",
       " {'success': True},\n",
       " {'success': True},\n",
       " {'success': True},\n",
       " {'success': True},\n",
       " {'success': True},\n",
       " {'success': True},\n",
       " {'success': True},\n",
       " {'success': True},\n",
       " {'success': True},\n",
       " {'success': True},\n",
       " {'success': True},\n",
       " {'success': True},\n",
       " {'success': True},\n",
       " {'success': True},\n",
       " {'success': True},\n",
       " {'success': True},\n",
       " {'success': True},\n",
       " {'success': True},\n",
       " {'success': True},\n",
       " {'success': True},\n",
       " {'success': True},\n",
       " {'success': True},\n",
       " {'success': True},\n",
       " {'success': True},\n",
       " {'success': True},\n",
       " {'success': True},\n",
       " {'success': True},\n",
       " {'success': True},\n",
       " {'success': True},\n",
       " {'success': True},\n",
       " {'success': True},\n",
       " {'success': True},\n",
       " {'success': True},\n",
       " {'success': True},\n",
       " {'success': True},\n",
       " {'success': True},\n",
       " {'success': True},\n",
       " {'success': True},\n",
       " {'success': True},\n",
       " {'success': True},\n",
       " {'success': True},\n",
       " {'success': True},\n",
       " {'success': True},\n",
       " {'success': True},\n",
       " {'success': True},\n",
       " {'success': True},\n",
       " {'success': True},\n",
       " {'success': True},\n",
       " {'success': True},\n",
       " {'success': True},\n",
       " {'success': True},\n",
       " {'success': True},\n",
       " {'success': True},\n",
       " {'success': True},\n",
       " {'success': True},\n",
       " {'success': True},\n",
       " {'success': True},\n",
       " {'success': True},\n",
       " {'success': True},\n",
       " {'success': True},\n",
       " {'success': True},\n",
       " {'success': True},\n",
       " {'success': True},\n",
       " {'success': True},\n",
       " {'success': True},\n",
       " {'success': True},\n",
       " {'success': True},\n",
       " {'success': True},\n",
       " {'success': True},\n",
       " {'success': True},\n",
       " {'success': True},\n",
       " {'success': True},\n",
       " {'success': True},\n",
       " {'success': True},\n",
       " {'success': True},\n",
       " {'success': True},\n",
       " {'success': True},\n",
       " {'success': True},\n",
       " {'success': True},\n",
       " {'success': True},\n",
       " {'success': True},\n",
       " {'success': True},\n",
       " {'success': True},\n",
       " {'success': True},\n",
       " {'success': True},\n",
       " {'success': True},\n",
       " {'success': True},\n",
       " {'success': True},\n",
       " {'success': True},\n",
       " {'success': True},\n",
       " {'success': True},\n",
       " {'success': True},\n",
       " {'success': True},\n",
       " {'success': True},\n",
       " {'success': True},\n",
       " {'success': True},\n",
       " {'success': True},\n",
       " {'success': True},\n",
       " {'success': True},\n",
       " {'success': True},\n",
       " {'success': True},\n",
       " {'success': True},\n",
       " {'success': True},\n",
       " {'success': True},\n",
       " {'success': True},\n",
       " {'success': True},\n",
       " {'success': True},\n",
       " {'success': True},\n",
       " {'success': True},\n",
       " {'success': True},\n",
       " {'success': True},\n",
       " {'success': True},\n",
       " {'success': True},\n",
       " {'success': True},\n",
       " {'success': True},\n",
       " {'success': True},\n",
       " {'success': True},\n",
       " {'success': True},\n",
       " {'success': True},\n",
       " {'success': True},\n",
       " {'success': True},\n",
       " {'success': True},\n",
       " {'success': True},\n",
       " {'success': True},\n",
       " {'success': True},\n",
       " {'success': True},\n",
       " {'success': True},\n",
       " {'success': True},\n",
       " {'success': True},\n",
       " {'success': True},\n",
       " {'success': True},\n",
       " {'success': True},\n",
       " {'success': True},\n",
       " {'success': True},\n",
       " {'success': True},\n",
       " {'success': True},\n",
       " {'success': True},\n",
       " {'success': True},\n",
       " {'success': True},\n",
       " {'success': True},\n",
       " {'success': True},\n",
       " {'success': True},\n",
       " {'success': True},\n",
       " {'success': True},\n",
       " {'success': True},\n",
       " {'success': True},\n",
       " {'success': True},\n",
       " {'success': True},\n",
       " {'success': True},\n",
       " {'success': True},\n",
       " {'success': True},\n",
       " {'success': True},\n",
       " {'success': True},\n",
       " {'success': True},\n",
       " {'success': True},\n",
       " {'success': True},\n",
       " {'success': True},\n",
       " {'success': True},\n",
       " {'success': True},\n",
       " {'success': True},\n",
       " {'success': True},\n",
       " {'success': True},\n",
       " {'success': True},\n",
       " {'success': True},\n",
       " {'success': True},\n",
       " {'success': True},\n",
       " {'success': True},\n",
       " {'success': True},\n",
       " {'success': True},\n",
       " {'success': True},\n",
       " {'success': True},\n",
       " {'success': True},\n",
       " {'success': True},\n",
       " {'success': True},\n",
       " {'success': True},\n",
       " {'success': True},\n",
       " {'success': True},\n",
       " {'success': True},\n",
       " {'success': True}]"
      ]
     },
     "execution_count": 50,
     "metadata": {},
     "output_type": "execute_result"
    }
   ],
   "source": [
    "client.collections['grocery'].documents.import_(products_to_db, {'action': 'create'})"
   ]
  },
  {
   "cell_type": "code",
   "execution_count": 53,
   "id": "7aa3e99f",
   "metadata": {},
   "outputs": [],
   "source": [
    "def upsert_documents(data_list, client=client):\n",
    "    for doc in data_list:\n",
    "        name = doc.get(\"name\")\n",
    "        brand = doc.get(\"brand\")\n",
    "        def sanitize_for_filter(value):\n",
    "            # Escape quotes and remove unbalanced parentheses\n",
    "            value = value.replace('\"', '\\\\\"')\n",
    "            value = re.sub(r'\\(|\\)', '', value)  # remove parentheses\n",
    "            return value\n",
    "        name = sanitize_for_filter(name)\n",
    "\n",
    "        # Search for exact match\n",
    "        search_result = client.collections['grocery'].documents.search({\n",
    "            'q': \"*\",\n",
    "            'query_by': 'name',\n",
    "            'filter_by': f'brand:=\"{brand}\" && name:=\"{name}\"',\n",
    "            'per_page': 1\n",
    "        })\n",
    "\n",
    "        if search_result['found'] > 0:\n",
    "            existing_id = search_result['hits'][0]['document']['id']\n",
    "            doc['id'] = existing_id\n",
    "    \n",
    "        # Perform upsert\n",
    "    client.collections['grocery'].documents.import_(data_list, {'action': 'upsert'})"
   ]
  },
  {
   "cell_type": "code",
   "execution_count": 54,
   "id": "e1d58916",
   "metadata": {},
   "outputs": [],
   "source": [
    "upsert_documents(products_to_db)"
   ]
  },
  {
   "cell_type": "code",
   "execution_count": null,
   "id": "c0d7fccf",
   "metadata": {},
   "outputs": [],
   "source": []
  }
 ],
 "metadata": {
  "kernelspec": {
   "display_name": "grocery",
   "language": "python",
   "name": "python3"
  },
  "language_info": {
   "codemirror_mode": {
    "name": "ipython",
    "version": 3
   },
   "file_extension": ".py",
   "mimetype": "text/x-python",
   "name": "python",
   "nbconvert_exporter": "python",
   "pygments_lexer": "ipython3",
   "version": "3.12.11"
  }
 },
 "nbformat": 4,
 "nbformat_minor": 5
}
