{
 "cells": [
  {
   "cell_type": "code",
   "execution_count": 4,
   "id": "d93edf99",
   "metadata": {},
   "outputs": [],
   "source": [
    "from selenium import webdriver\n",
    "from selenium.webdriver.common.by import By\n",
    "from selenium.webdriver.chrome.options import Options\n",
    "import time"
   ]
  },
  {
   "cell_type": "code",
   "execution_count": 68,
   "id": "b9736572",
   "metadata": {},
   "outputs": [],
   "source": [
    "options = Options()\n",
    "driver = webdriver.Chrome(options=options)\n",
    "driver.get(\"https://www.pns.hk/en/food-beverages/fruit/c/04090100\")"
   ]
  },
  {
   "cell_type": "code",
   "execution_count": null,
   "id": "2f1dc332",
   "metadata": {},
   "outputs": [],
   "source": [
    "for i in range(30):\n",
    "    #driver.execute_script(\"window.scrollTo(0, document.body.scrollHeight);\")\n",
    "    driver.execute_script(\"window.scrollBy(0, 10000);\")\n",
    "    time.sleep(0.5)\n",
    "#or manually scroll to bottom"
   ]
  },
  {
   "cell_type": "code",
   "execution_count": 72,
   "id": "cbd510c6",
   "metadata": {},
   "outputs": [],
   "source": [
    "products= driver.find_elements(by=By.CLASS_NAME, value=\"productContainer\")"
   ]
  },
  {
   "cell_type": "code",
   "execution_count": 73,
   "id": "83811bff",
   "metadata": {},
   "outputs": [
    {
     "data": {
      "text/plain": [
       "83"
      ]
     },
     "execution_count": 73,
     "metadata": {},
     "output_type": "execute_result"
    }
   ],
   "source": [
    "len(products)"
   ]
  },
  {
   "cell_type": "code",
   "execution_count": 74,
   "id": "03fe2f0f",
   "metadata": {},
   "outputs": [
    {
     "name": "stdout",
     "output_type": "stream",
     "text": [
      "https://medias.pns.hk/publishing/PNSHK-65950-front-prodcat.jpg?version=1742474098\n"
     ]
    }
   ],
   "source": [
    "product1= products[-1]\n",
    "img_url= product1.find_element(by= By.TAG_NAME, value=\"img\").get_attribute(\"src\")\n",
    "print(img_url)"
   ]
  },
  {
   "cell_type": "code",
   "execution_count": 75,
   "id": "85c3bf00",
   "metadata": {},
   "outputs": [
    {
     "name": "stdout",
     "output_type": "stream",
     "text": [
      "Prepacked Kidney Mango (china)\n"
     ]
    }
   ],
   "source": [
    "name= product1.find_element(by= By.CLASS_NAME, value=\"name\").text\n",
    "print(name)"
   ]
  },
  {
   "cell_type": "code",
   "execution_count": 76,
   "id": "37751f33",
   "metadata": {},
   "outputs": [
    {
     "name": "stdout",
     "output_type": "stream",
     "text": [
      "$18.00\n"
     ]
    }
   ],
   "source": [
    "price = product1.find_element(by= By.CLASS_NAME, value=\"currentPrice\").text\n",
    "print(price)"
   ]
  },
  {
   "cell_type": "code",
   "execution_count": 77,
   "id": "c489575e",
   "metadata": {},
   "outputs": [
    {
     "name": "stdout",
     "output_type": "stream",
     "text": [
      "PACK\n"
     ]
    }
   ],
   "source": [
    "quantity = product1.find_element(by= By.CLASS_NAME, value=\"productUnit\").text\n",
    "print(quantity)"
   ]
  },
  {
   "cell_type": "code",
   "execution_count": 78,
   "id": "6196bf39",
   "metadata": {},
   "outputs": [
    {
     "name": "stdout",
     "output_type": "stream",
     "text": [
      "Out of Stock\n"
     ]
    }
   ],
   "source": [
    "try:\n",
    "    product1.find_element(by= By.CLASS_NAME, value=\"productHighlightOOS\").text\n",
    "    print(\"Out of Stock\")\n",
    "except:\n",
    "    pass"
   ]
  },
  {
   "cell_type": "code",
   "execution_count": 79,
   "id": "8db67133",
   "metadata": {},
   "outputs": [],
   "source": [
    "driver.quit()"
   ]
  },
  {
   "cell_type": "markdown",
   "id": "98e30d9a",
   "metadata": {},
   "source": [
    "wellcome"
   ]
  },
  {
   "cell_type": "code",
   "execution_count": 90,
   "id": "da92dc90",
   "metadata": {},
   "outputs": [],
   "source": [
    "options = Options()\n",
    "driver = webdriver.Chrome(options=options)\n",
    "driver.get(\"https://www.wellcome.com.hk/en/category/100011/11.html\")\n"
   ]
  },
  {
   "cell_type": "code",
   "execution_count": 91,
   "id": "049a363b",
   "metadata": {},
   "outputs": [],
   "source": [
    "products= driver.find_elements(by=By.CLASS_NAME, value=\"ware-wrapper\")"
   ]
  },
  {
   "cell_type": "code",
   "execution_count": 92,
   "id": "6e6224df",
   "metadata": {},
   "outputs": [],
   "source": [
    "product2= products[0]"
   ]
  },
  {
   "cell_type": "code",
   "execution_count": 93,
   "id": "711e6d0f",
   "metadata": {},
   "outputs": [
    {
     "name": "stdout",
     "output_type": "stream",
     "text": [
      "https://img.rtacdn-os.com/20220527/7e5ac6dd-0b04-4819-807c-f4e8d12421db_480x480H.webp\n"
     ]
    }
   ],
   "source": [
    "img_url= product2.find_element(by= By.TAG_NAME, value=\"img\").get_attribute(\"src\")\n",
    "print(img_url)"
   ]
  },
  {
   "cell_type": "code",
   "execution_count": 94,
   "id": "f674f716",
   "metadata": {},
   "outputs": [
    {
     "name": "stdout",
     "output_type": "stream",
     "text": [
      "USA WHITE PEACH 1 PK\n"
     ]
    }
   ],
   "source": [
    "name= product2.find_element(by= By.CLASS_NAME, value=\"promo\").text\n",
    "print(name)"
   ]
  },
  {
   "cell_type": "code",
   "execution_count": 95,
   "id": "cc39a594",
   "metadata": {},
   "outputs": [],
   "source": [
    "price = product2.find_element(by= By.CLASS_NAME, value=\"price\").text + product2.find_element(by= By.CLASS_NAME, value=\"small-price\").text"
   ]
  },
  {
   "cell_type": "code",
   "execution_count": 96,
   "id": "ec2d0d8c",
   "metadata": {},
   "outputs": [
    {
     "data": {
      "text/plain": [
       "'$32.00'"
      ]
     },
     "execution_count": 96,
     "metadata": {},
     "output_type": "execute_result"
    }
   ],
   "source": [
    "price"
   ]
  },
  {
   "cell_type": "code",
   "execution_count": 97,
   "id": "7bf5cf29",
   "metadata": {},
   "outputs": [
    {
     "name": "stdout",
     "output_type": "stream",
     "text": [
      "Out of Stock\n"
     ]
    }
   ],
   "source": [
    "try:\n",
    "    product2.find_element(by= By.CLASS_NAME, value=\"out-of-stock\").text\n",
    "    print(\"Out of Stock\")\n",
    "except:\n",
    "    pass"
   ]
  },
  {
   "cell_type": "code",
   "execution_count": 98,
   "id": "f2fd7802",
   "metadata": {},
   "outputs": [],
   "source": [
    "driver.quit()"
   ]
  },
  {
   "cell_type": "markdown",
   "id": "ee6d9631",
   "metadata": {},
   "source": [
    "Seed database\n"
   ]
  },
  {
   "cell_type": "code",
   "execution_count": 9,
   "id": "feb17d20",
   "metadata": {},
   "outputs": [],
   "source": [
    "from database import client"
   ]
  },
  {
   "cell_type": "code",
   "execution_count": 1,
   "id": "6fcbf5df",
   "metadata": {},
   "outputs": [],
   "source": [
    "from pydantic import BaseModel\n",
    "from typing import Optional\n",
    "\n",
    "class Product(BaseModel):\n",
    "    name: str\n",
    "    quantity: Optional[str]= None\n",
    "    price: float\n",
    "    image_url: str\n",
    "    is_in_stock: bool\n",
    "    brand: str\n"
   ]
  },
  {
   "cell_type": "code",
   "execution_count": 2,
   "id": "37f03a7a",
   "metadata": {},
   "outputs": [],
   "source": [
    "def scrape_parknshop(driver):\n",
    "    products= driver.find_elements(by=By.CLASS_NAME, value=\"productContainer\")\n",
    "    print(len(products), \"products found\")\n",
    "    scraped_products= []\n",
    "    for product in products:\n",
    "        img_url= product.find_element(by= By.TAG_NAME, value=\"img\").get_attribute(\"src\")\n",
    "        name= product.find_element(by= By.CLASS_NAME, value=\"name\").text\n",
    "        quantity = product.find_element(by= By.CLASS_NAME, value=\"productUnit\").text\n",
    "        price = float(product.find_element(by= By.CLASS_NAME, value=\"currentPrice\").text.replace(\"$\", \"\"))\n",
    "        try:\n",
    "            product.find_element(by= By.CLASS_NAME, value=\"productHighlightOOS\").text\n",
    "            is_in_stock= False  \n",
    "        except:\n",
    "            is_in_stock= True\n",
    "\n",
    "        p= Product(name=name, quantity=quantity, price=price, image_url=img_url, is_in_stock=is_in_stock, brand = \"ParknShop\")\n",
    "        scraped_products.append(p)\n",
    "    return scraped_products\n"
   ]
  },
  {
   "cell_type": "code",
   "execution_count": 5,
   "id": "1048f354",
   "metadata": {},
   "outputs": [],
   "source": [
    "options = Options()\n",
    "driver = webdriver.Chrome(options=options)\n",
    "driver.get(\"https://www.pns.hk/en/food-beverages/fruit/c/04090100\")"
   ]
  },
  {
   "cell_type": "code",
   "execution_count": 6,
   "id": "d3b4f60c",
   "metadata": {},
   "outputs": [
    {
     "name": "stdout",
     "output_type": "stream",
     "text": [
      "83 products found\n"
     ]
    }
   ],
   "source": [
    "scraped_fruits = scrape_parknshop(driver)\n",
    "driver.quit()"
   ]
  },
  {
   "cell_type": "code",
   "execution_count": 10,
   "id": "1678850f",
   "metadata": {},
   "outputs": [
    {
     "data": {
      "text/plain": [
       "[{'success': True},\n",
       " {'success': True},\n",
       " {'success': True},\n",
       " {'success': True},\n",
       " {'success': True},\n",
       " {'success': True},\n",
       " {'success': True},\n",
       " {'success': True},\n",
       " {'success': True},\n",
       " {'success': True},\n",
       " {'success': True},\n",
       " {'success': True},\n",
       " {'success': True},\n",
       " {'success': True},\n",
       " {'success': True},\n",
       " {'success': True},\n",
       " {'success': True},\n",
       " {'success': True},\n",
       " {'success': True},\n",
       " {'success': True},\n",
       " {'success': True},\n",
       " {'success': True},\n",
       " {'success': True},\n",
       " {'success': True},\n",
       " {'success': True},\n",
       " {'success': True},\n",
       " {'success': True},\n",
       " {'success': True},\n",
       " {'success': True},\n",
       " {'success': True},\n",
       " {'success': True},\n",
       " {'success': True},\n",
       " {'success': True},\n",
       " {'success': True},\n",
       " {'success': True},\n",
       " {'success': True},\n",
       " {'success': True},\n",
       " {'success': True},\n",
       " {'success': True},\n",
       " {'success': True},\n",
       " {'success': True},\n",
       " {'success': True},\n",
       " {'success': True},\n",
       " {'success': True},\n",
       " {'success': True},\n",
       " {'success': True},\n",
       " {'success': True},\n",
       " {'success': True},\n",
       " {'success': True},\n",
       " {'success': True},\n",
       " {'success': True},\n",
       " {'success': True},\n",
       " {'success': True},\n",
       " {'success': True},\n",
       " {'success': True},\n",
       " {'success': True},\n",
       " {'success': True},\n",
       " {'success': True},\n",
       " {'success': True},\n",
       " {'success': True},\n",
       " {'success': True},\n",
       " {'success': True},\n",
       " {'success': True},\n",
       " {'success': True},\n",
       " {'success': True},\n",
       " {'success': True},\n",
       " {'success': True},\n",
       " {'success': True},\n",
       " {'success': True},\n",
       " {'success': True},\n",
       " {'success': True},\n",
       " {'success': True},\n",
       " {'success': True},\n",
       " {'success': True},\n",
       " {'success': True},\n",
       " {'success': True},\n",
       " {'success': True},\n",
       " {'success': True},\n",
       " {'success': True},\n",
       " {'success': True},\n",
       " {'success': True},\n",
       " {'success': True},\n",
       " {'success': True}]"
      ]
     },
     "execution_count": 10,
     "metadata": {},
     "output_type": "execute_result"
    }
   ],
   "source": [
    "fruit_to_db =[fruit.model_dump() for fruit in scraped_fruits]\n",
    "client.collections['grocery'].documents.import_(fruit_to_db, {'action': 'create'})"
   ]
  },
  {
   "cell_type": "code",
   "execution_count": 11,
   "id": "d9656247",
   "metadata": {},
   "outputs": [],
   "source": [
    "options = Options()\n",
    "driver = webdriver.Chrome(options=options)\n",
    "driver.get(\"https://www.pns.hk/en/food-beverages/vegetable/c/04090200\")"
   ]
  },
  {
   "cell_type": "code",
   "execution_count": 12,
   "id": "b71b8084",
   "metadata": {},
   "outputs": [
    {
     "name": "stdout",
     "output_type": "stream",
     "text": [
      "121 products found\n"
     ]
    }
   ],
   "source": [
    "scraped_veggies = scrape_parknshop(driver)\n",
    "driver.quit()"
   ]
  },
  {
   "cell_type": "code",
   "execution_count": 13,
   "id": "25043d9f",
   "metadata": {},
   "outputs": [
    {
     "data": {
      "text/plain": [
       "[{'success': True},\n",
       " {'success': True},\n",
       " {'success': True},\n",
       " {'success': True},\n",
       " {'success': True},\n",
       " {'success': True},\n",
       " {'success': True},\n",
       " {'success': True},\n",
       " {'success': True},\n",
       " {'success': True},\n",
       " {'success': True},\n",
       " {'success': True},\n",
       " {'success': True},\n",
       " {'success': True},\n",
       " {'success': True},\n",
       " {'success': True},\n",
       " {'success': True},\n",
       " {'success': True},\n",
       " {'success': True},\n",
       " {'success': True},\n",
       " {'success': True},\n",
       " {'success': True},\n",
       " {'success': True},\n",
       " {'success': True},\n",
       " {'success': True},\n",
       " {'success': True},\n",
       " {'success': True},\n",
       " {'success': True},\n",
       " {'success': True},\n",
       " {'success': True},\n",
       " {'success': True},\n",
       " {'success': True},\n",
       " {'success': True},\n",
       " {'success': True},\n",
       " {'success': True},\n",
       " {'success': True},\n",
       " {'success': True},\n",
       " {'success': True},\n",
       " {'success': True},\n",
       " {'success': True},\n",
       " {'success': True},\n",
       " {'success': True},\n",
       " {'success': True},\n",
       " {'success': True},\n",
       " {'success': True},\n",
       " {'success': True},\n",
       " {'success': True},\n",
       " {'success': True},\n",
       " {'success': True},\n",
       " {'success': True},\n",
       " {'success': True},\n",
       " {'success': True},\n",
       " {'success': True},\n",
       " {'success': True},\n",
       " {'success': True},\n",
       " {'success': True},\n",
       " {'success': True},\n",
       " {'success': True},\n",
       " {'success': True},\n",
       " {'success': True},\n",
       " {'success': True},\n",
       " {'success': True},\n",
       " {'success': True},\n",
       " {'success': True},\n",
       " {'success': True},\n",
       " {'success': True},\n",
       " {'success': True},\n",
       " {'success': True},\n",
       " {'success': True},\n",
       " {'success': True},\n",
       " {'success': True},\n",
       " {'success': True},\n",
       " {'success': True},\n",
       " {'success': True},\n",
       " {'success': True},\n",
       " {'success': True},\n",
       " {'success': True},\n",
       " {'success': True},\n",
       " {'success': True},\n",
       " {'success': True},\n",
       " {'success': True},\n",
       " {'success': True},\n",
       " {'success': True},\n",
       " {'success': True},\n",
       " {'success': True},\n",
       " {'success': True},\n",
       " {'success': True},\n",
       " {'success': True},\n",
       " {'success': True},\n",
       " {'success': True},\n",
       " {'success': True},\n",
       " {'success': True},\n",
       " {'success': True},\n",
       " {'success': True},\n",
       " {'success': True},\n",
       " {'success': True},\n",
       " {'success': True},\n",
       " {'success': True},\n",
       " {'success': True},\n",
       " {'success': True},\n",
       " {'success': True},\n",
       " {'success': True},\n",
       " {'success': True},\n",
       " {'success': True},\n",
       " {'success': True},\n",
       " {'success': True},\n",
       " {'success': True},\n",
       " {'success': True},\n",
       " {'success': True},\n",
       " {'success': True},\n",
       " {'success': True},\n",
       " {'success': True},\n",
       " {'success': True},\n",
       " {'success': True},\n",
       " {'success': True},\n",
       " {'success': True},\n",
       " {'success': True},\n",
       " {'success': True},\n",
       " {'success': True},\n",
       " {'success': True},\n",
       " {'success': True}]"
      ]
     },
     "execution_count": 13,
     "metadata": {},
     "output_type": "execute_result"
    }
   ],
   "source": [
    "veg_to_db =[veg.model_dump() for veg in scraped_veggies]\n",
    "client.collections['grocery'].documents.import_(veg_to_db, {'action': 'create'})"
   ]
  },
  {
   "cell_type": "code",
   "execution_count": 16,
   "id": "af1edd2f",
   "metadata": {},
   "outputs": [],
   "source": [
    "import re\n",
    "def split_on_first_number(s):\n",
    "    match = re.search(r'\\d+', s)\n",
    "    if match:\n",
    "        start = match.start()\n",
    "        return s[:start], s[start:]\n",
    "    else:\n",
    "        return s, None  # No number found"
   ]
  },
  {
   "cell_type": "code",
   "execution_count": 18,
   "id": "d9e00ccd",
   "metadata": {},
   "outputs": [
    {
     "data": {
      "text/plain": [
       "('Fresh apples', None)"
      ]
     },
     "execution_count": 18,
     "metadata": {},
     "output_type": "execute_result"
    }
   ],
   "source": [
    "split_on_first_number(\"Fresh apples\")"
   ]
  },
  {
   "cell_type": "code",
   "execution_count": 46,
   "id": "69a1499d",
   "metadata": {},
   "outputs": [],
   "source": [
    "def scrape_wellcome():\n",
    "    for i in range(1, 12):\n",
    "        options = Options()\n",
    "        driver = webdriver.Chrome(options=options)\n",
    "        driver.get(f\"https://www.wellcome.com.hk/en/category/100011/{i}.html\")\n",
    "        time.sleep(5)\n",
    "        products= driver.find_elements(by=By.CLASS_NAME, value=\"ware-wrapper\")\n",
    "        \n",
    "        for product in products:\n",
    "            try: \n",
    "                img_url= product.find_element(by= By.CLASS_NAME, value=\"el-image__inner\").get_attribute(\"src\")\n",
    "                name_quantity= product.find_element(by= By.CLASS_NAME, value=\"promo\").text\n",
    "                price_txt = product.find_element(by= By.CLASS_NAME, value=\"price\").text + product.find_element(by= By.CLASS_NAME, value=\"small-price\").text\n",
    "                price = float(price_txt.replace(\"$\", \"\"))\n",
    "                name, quantity = split_on_first_number(name_quantity)\n",
    "                try:\n",
    "                    product.find_element(by= By.CLASS_NAME, value=\"out-of-stock\").text\n",
    "                    is_in_stock = False\n",
    "                except:\n",
    "                    is_in_stock = True\n",
    "                p = Product(name=name, quantity=quantity, price=price, image_url=img_url, brand= \"Wellcome\", is_in_stock=is_in_stock)\n",
    "                yield p\n",
    "            except Exception as e:\n",
    "                print(f\"Error processing product: {e}\")\n",
    "                continue\n",
    "            \n",
    "        driver.quit()\n",
    "    return\n"
   ]
  },
  {
   "cell_type": "code",
   "execution_count": 47,
   "id": "2d9a1a11",
   "metadata": {},
   "outputs": [],
   "source": [
    "wellcome_products = [product for product in scrape_wellcome()]"
   ]
  },
  {
   "cell_type": "code",
   "execution_count": 48,
   "id": "202fd563",
   "metadata": {},
   "outputs": [],
   "source": [
    "products_to_db = [product.model_dump() for product in wellcome_products]"
   ]
  },
  {
   "cell_type": "code",
   "execution_count": 50,
   "id": "78ecfbf7",
   "metadata": {},
   "outputs": [
    {
     "data": {
      "text/plain": [
       "[{'success': True},\n",
       " {'success': True},\n",
       " {'success': True},\n",
       " {'success': True},\n",
       " {'success': True},\n",
       " {'success': True},\n",
       " {'success': True},\n",
       " {'success': True},\n",
       " {'success': True},\n",
       " {'success': True},\n",
       " {'success': True},\n",
       " {'success': True},\n",
       " {'success': True},\n",
       " {'success': True},\n",
       " {'success': True},\n",
       " {'success': True},\n",
       " {'success': True},\n",
       " {'success': True},\n",
       " {'success': True},\n",
       " {'success': True},\n",
       " {'success': True},\n",
       " {'success': True},\n",
       " {'success': True},\n",
       " {'success': True},\n",
       " {'success': True},\n",
       " {'success': True},\n",
       " {'success': True},\n",
       " {'success': True},\n",
       " {'success': True},\n",
       " {'success': True},\n",
       " {'success': True},\n",
       " {'success': True},\n",
       " {'success': True},\n",
       " {'success': True},\n",
       " {'success': True},\n",
       " {'success': True},\n",
       " {'success': True},\n",
       " {'success': True},\n",
       " {'success': True},\n",
       " {'success': True},\n",
       " {'success': True},\n",
       " {'success': True},\n",
       " {'success': True},\n",
       " {'success': True},\n",
       " {'success': True},\n",
       " {'success': True},\n",
       " {'success': True},\n",
       " {'success': True},\n",
       " {'success': True},\n",
       " {'success': True},\n",
       " {'success': True},\n",
       " {'success': True},\n",
       " {'success': True},\n",
       " {'success': True},\n",
       " {'success': True},\n",
       " {'success': True},\n",
       " {'success': True},\n",
       " {'success': True},\n",
       " {'success': True},\n",
       " {'success': True},\n",
       " {'success': True},\n",
       " {'success': True},\n",
       " {'success': True},\n",
       " {'success': True},\n",
       " {'success': True},\n",
       " {'success': True},\n",
       " {'success': True},\n",
       " {'success': True},\n",
       " {'success': True},\n",
       " {'success': True},\n",
       " {'success': True},\n",
       " {'success': True},\n",
       " {'success': True},\n",
       " {'success': True},\n",
       " {'success': True},\n",
       " {'success': True},\n",
       " {'success': True},\n",
       " {'success': True},\n",
       " {'success': True},\n",
       " {'success': True},\n",
       " {'success': True},\n",
       " {'success': True},\n",
       " {'success': True},\n",
       " {'success': True},\n",
       " {'success': True},\n",
       " {'success': True},\n",
       " {'success': True},\n",
       " {'success': True},\n",
       " {'success': True},\n",
       " {'success': True},\n",
       " {'success': True},\n",
       " {'success': True},\n",
       " {'success': True},\n",
       " {'success': True},\n",
       " {'success': True},\n",
       " {'success': True},\n",
       " {'success': True},\n",
       " {'success': True},\n",
       " {'success': True},\n",
       " {'success': True},\n",
       " {'success': True},\n",
       " {'success': True},\n",
       " {'success': True},\n",
       " {'success': True},\n",
       " {'success': True},\n",
       " {'success': True},\n",
       " {'success': True},\n",
       " {'success': True},\n",
       " {'success': True},\n",
       " {'success': True},\n",
       " {'success': True},\n",
       " {'success': True},\n",
       " {'success': True},\n",
       " {'success': True},\n",
       " {'success': True},\n",
       " {'success': True},\n",
       " {'success': True},\n",
       " {'success': True},\n",
       " {'success': True},\n",
       " {'success': True},\n",
       " {'success': True},\n",
       " {'success': True},\n",
       " {'success': True},\n",
       " {'success': True},\n",
       " {'success': True},\n",
       " {'success': True},\n",
       " {'success': True},\n",
       " {'success': True},\n",
       " {'success': True},\n",
       " {'success': True},\n",
       " {'success': True},\n",
       " {'success': True},\n",
       " {'success': True},\n",
       " {'success': True},\n",
       " {'success': True},\n",
       " {'success': True},\n",
       " {'success': True},\n",
       " {'success': True},\n",
       " {'success': True},\n",
       " {'success': True},\n",
       " {'success': True},\n",
       " {'success': True},\n",
       " {'success': True},\n",
       " {'success': True},\n",
       " {'success': True},\n",
       " {'success': True},\n",
       " {'success': True},\n",
       " {'success': True},\n",
       " {'success': True},\n",
       " {'success': True},\n",
       " {'success': True},\n",
       " {'success': True},\n",
       " {'success': True},\n",
       " {'success': True},\n",
       " {'success': True},\n",
       " {'success': True},\n",
       " {'success': True},\n",
       " {'success': True},\n",
       " {'success': True},\n",
       " {'success': True},\n",
       " {'success': True},\n",
       " {'success': True},\n",
       " {'success': True},\n",
       " {'success': True},\n",
       " {'success': True},\n",
       " {'success': True},\n",
       " {'success': True},\n",
       " {'success': True},\n",
       " {'success': True},\n",
       " {'success': True},\n",
       " {'success': True},\n",
       " {'success': True},\n",
       " {'success': True},\n",
       " {'success': True},\n",
       " {'success': True},\n",
       " {'success': True},\n",
       " {'success': True},\n",
       " {'success': True},\n",
       " {'success': True},\n",
       " {'success': True},\n",
       " {'success': True},\n",
       " {'success': True},\n",
       " {'success': True},\n",
       " {'success': True},\n",
       " {'success': True},\n",
       " {'success': True},\n",
       " {'success': True},\n",
       " {'success': True},\n",
       " {'success': True},\n",
       " {'success': True},\n",
       " {'success': True},\n",
       " {'success': True},\n",
       " {'success': True},\n",
       " {'success': True},\n",
       " {'success': True},\n",
       " {'success': True},\n",
       " {'success': True},\n",
       " {'success': True},\n",
       " {'success': True},\n",
       " {'success': True},\n",
       " {'success': True},\n",
       " {'success': True},\n",
       " {'success': True},\n",
       " {'success': True},\n",
       " {'success': True},\n",
       " {'success': True},\n",
       " {'success': True}]"
      ]
     },
     "execution_count": 50,
     "metadata": {},
     "output_type": "execute_result"
    }
   ],
   "source": [
    "client.collections['grocery'].documents.import_(products_to_db, {'action': 'create'})"
   ]
  },
  {
   "cell_type": "code",
   "execution_count": null,
   "id": "7aa3e99f",
   "metadata": {},
   "outputs": [],
   "source": []
  }
 ],
 "metadata": {
  "kernelspec": {
   "display_name": "grocery",
   "language": "python",
   "name": "python3"
  },
  "language_info": {
   "codemirror_mode": {
    "name": "ipython",
    "version": 3
   },
   "file_extension": ".py",
   "mimetype": "text/x-python",
   "name": "python",
   "nbconvert_exporter": "python",
   "pygments_lexer": "ipython3",
   "version": "3.12.11"
  }
 },
 "nbformat": 4,
 "nbformat_minor": 5
}
